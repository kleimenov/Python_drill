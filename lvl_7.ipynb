{
 "cells": [
  {
   "cell_type": "markdown",
   "metadata": {},
   "source": [
    "### Problem #1\n",
    "You must implement a function maxDiff that return the difference between the biggest and the smallest value in a list(lst) received as parameter.\n",
    "\n",
    "The list(lst) contains integers, that means it may contain some negative numbers.\n",
    "\n",
    "If the list is empty or contains a single element, return 0.\n",
    "\n",
    "The list(lst) is not sorted.\n",
    "\n",
    "maxDiff([1, 2, 3, 4]); //return 3, because 4 - 1 == 3\n",
    "\n",
    "maxDiff([1, 2, 3, -4]); //return 7, because 3 - (-4) == 7"
   ]
  },
  {
   "cell_type": "code",
   "execution_count": null,
   "metadata": {},
   "outputs": [],
   "source": [
    "'''\n",
    "def max_diff(lst):\n",
    "    if lst != []:\n",
    "        return max(lst) - min(lst)\n",
    "    else:\n",
    "        return 0\n",
    "'''\n",
    "\n",
    "def max_diff(lst):\n",
    "    while lst:\n",
    "        return max(lst) - min(lst)\n",
    "    return 0\n",
    "\n"
   ]
  },
  {
   "cell_type": "markdown",
   "metadata": {},
   "source": [
    "### Problem #2\n",
    "My friend John likes to go to the cinema. He can choose between system A and system B.\n",
    "\n",
    "System A : he buys a ticket (15 dollars) every time\n",
    "\n",
    "System B : he buys a card (500 dollars) and a first ticket for 0.90 times the ticket price, then for each additional ticket he pays 0.90 times the price paid for the previous ticket.\n",
    "\n",
    "Example: If John goes to the cinema 3 times:\n",
    "\n",
    "System A : 15 * 3 = 45\n",
    "\n",
    "System B : 500 + 15 * 0.90 + (15 * 0.90) * 0.90 + (15 * 0.90 * 0.90) * 0.90 ( = 536.5849999999999, no rounding for each ticket)\n",
    "\n",
    "John wants to know how many times he must go to the cinema so that the final result of System B, when rounded up to the next dollar, will be cheaper than System A.\n",
    "\n",
    "The function movie has 3 parameters: card (price of the card), ticket (normal price of a ticket), perc (fraction of what he paid for the previous ticket) and returns the first n such that ceil(price of System B) < price of System A.\n",
    "\n",
    "movie(500, 15, 0.9) should return 43 \n",
    "\n",
    "    (with card the total price is 634, with tickets 645)\n",
    "    \n",
    "movie(100, 10, 0.95) should return 24 \n",
    "\n",
    "    (with card the total price is 235, with tickets 240)\n",
    "\n"
   ]
  },
  {
   "cell_type": "code",
   "execution_count": 138,
   "metadata": {},
   "outputs": [],
   "source": [
    "import math\n",
    "def movie(card, ticket, perc):\n",
    "    \n",
    "    ticket_mod = ticket\n",
    "    full_price = 0\n",
    "    cnt = 0\n",
    "    \n",
    "    while full_price - math.ceil(card) <= 0:\n",
    "            ticket_mod *= perc\n",
    "            card += (ticket_mod)\n",
    "            full_price += ticket\n",
    "            cnt = cnt + 1      \n",
    "\n",
    "    return cnt"
   ]
  },
  {
   "cell_type": "code",
   "execution_count": 139,
   "metadata": {},
   "outputs": [
    {
     "data": {
      "text/plain": [
       "24"
      ]
     },
     "execution_count": 139,
     "metadata": {},
     "output_type": "execute_result"
    }
   ],
   "source": [
    "movie(100,10,0.95)"
   ]
  },
  {
   "cell_type": "code",
   "execution_count": 140,
   "metadata": {},
   "outputs": [],
   "source": [
    "def movie(card, ticket, perc):\n",
    "    ticket_mod = ticket\n",
    "    full_price = 0\n",
    "    cnt = 0\n",
    "    \n",
    "    for i in range(0, card):\n",
    "        if  full_price - math.ceil(card) < 0:\n",
    "            ticket_mod *= perc\n",
    "            \n",
    "            card += (ticket_mod)\n",
    "            full_price += ticket\n",
    "            cnt = cnt + 1\n",
    "           \n",
    "\n",
    "    return cnt"
   ]
  },
  {
   "cell_type": "code",
   "execution_count": 142,
   "metadata": {},
   "outputs": [
    {
     "data": {
      "text/plain": [
       "43"
      ]
     },
     "execution_count": 142,
     "metadata": {},
     "output_type": "execute_result"
    }
   ],
   "source": [
    "movie(500,15,0.9)"
   ]
  },
  {
   "cell_type": "markdown",
   "metadata": {},
   "source": [
    "### Problem #3\n",
    "Given a string and an array of integers representing indices, capitalize all letters at the given indices.\n",
    "\n",
    "For example:\n",
    "\n",
    "capitalize(\"abcdef\",[1,2,5]) = \"aBCdeF\"\n",
    "\n",
    "capitalize(\"abcdef\",[1,2,5,100]) = \"aBCdeF\". There is no index 100.\n",
    "\n",
    "The input will be a lowercase string with no spaces and an array of digits."
   ]
  },
  {
   "cell_type": "code",
   "execution_count": 173,
   "metadata": {},
   "outputs": [],
   "source": [
    "s = \"abcdef\"\n",
    "p = [1,2,5]"
   ]
  },
  {
   "cell_type": "code",
   "execution_count": 188,
   "metadata": {},
   "outputs": [],
   "source": [
    "def capitalize(s,ind):\n",
    "    return ''.join(c.upper() if i in ind else c for i, c in enumerate(s))"
   ]
  },
  {
   "cell_type": "code",
   "execution_count": 189,
   "metadata": {},
   "outputs": [],
   "source": [
    "def capitalize_I(s,ind):\n",
    "    ind = set(ind)\n",
    "    return ''.join(c.upper() if i in ind else c for i,c in enumerate(s))"
   ]
  },
  {
   "cell_type": "code",
   "execution_count": null,
   "metadata": {},
   "outputs": [],
   "source": []
  },
  {
   "cell_type": "code",
   "execution_count": 204,
   "metadata": {},
   "outputs": [
    {
     "name": "stdout",
     "output_type": "stream",
     "text": [
      "(0, 10)\n",
      "(1, 20)\n",
      "(2, 30)\n",
      "(3, 40)\n"
     ]
    }
   ],
   "source": [
    "a = [10, 20, 30, 40]\n",
    "for i in enumerate(a):\n",
    "    print(i)\n"
   ]
  },
  {
   "cell_type": "code",
   "execution_count": null,
   "metadata": {},
   "outputs": [],
   "source": []
  },
  {
   "cell_type": "markdown",
   "metadata": {},
   "source": [
    "### Problem #4\n",
    "It's been a tough week at work and you are stuggling to get out of bed in the morning.\n",
    "\n",
    "While waiting at the bus stop you realise that if you could time your arrival to the nearest minute you could get valuable extra minutes in bed.\n",
    "\n",
    "There is a bus that goes to your office every 15 minute, the first bus is at 06:00, and the last bus is at 00:00.\n",
    "\n",
    "Given that it takes 5 minutes to walk from your front door to the bus stop, implement a function that when given the curent time will tell you much time is left, before you must leave to catch the next bus."
   ]
  },
  {
   "cell_type": "code",
   "execution_count": 212,
   "metadata": {},
   "outputs": [],
   "source": [
    " def bus_timer(current_time):\n",
    "    h, m = map(int, current_time.split(':'))\n",
    "\n",
    "    if h<6:\n",
    "        m = (5 - h) * 60 + 60 - m\n",
    "    elif h == 23 and m > 55:\n",
    "        return 355 + 60 - m\n",
    "    else:\n",
    "        m = 15 - m % 15\n",
    "\n",
    "    if m > 4:\n",
    "        return  m - 5\n",
    "    else:\n",
    "        return  m + 10"
   ]
  },
  {
   "cell_type": "markdown",
   "metadata": {},
   "source": [
    "### Problem #5\n",
    "Update the solution method to round the argument value to the closest precision of two. The argument will always be a float.\n"
   ]
  },
  {
   "cell_type": "code",
   "execution_count": 312,
   "metadata": {},
   "outputs": [],
   "source": [
    "def solution(n):   \n",
    "    return round(n, 2)\n"
   ]
  },
  {
   "cell_type": "markdown",
   "metadata": {},
   "source": [
    "### Problem #6\n",
    "In this Kata, you will be given an array of integers whose elements have both a negative and a positive value, except for one integer that is either only negative or only positive. Your task will be to find that integer.\n",
    "\n",
    "Examples:\n",
    "\n",
    "[1, -1, 2, -2, 3] => 3\n",
    "\n",
    "[1, -1, 2, -2, -3] => -3"
   ]
  },
  {
   "cell_type": "code",
   "execution_count": 44,
   "metadata": {},
   "outputs": [],
   "source": [
    "g = [-110,110,-38,-38,-62,62,-38,-38,-38]"
   ]
  },
  {
   "cell_type": "code",
   "execution_count": 47,
   "metadata": {},
   "outputs": [],
   "source": [
    "def solve(arr): \n",
    "    return sum(set(arr))"
   ]
  },
  {
   "cell_type": "code",
   "execution_count": 49,
   "metadata": {},
   "outputs": [
    {
     "data": {
      "text/plain": [
       "-38"
      ]
     },
     "execution_count": 49,
     "metadata": {},
     "output_type": "execute_result"
    }
   ],
   "source": [
    "solve(g)"
   ]
  },
  {
   "cell_type": "markdown",
   "metadata": {},
   "source": [
    "### Problem #7! \n",
    "Let's say we have a number, num. Find the number of values of n such that: there exists n consecutive positive values that sum up to num. A positive number is > 0. n can also be 1."
   ]
  },
  {
   "cell_type": "code",
   "execution_count": 68,
   "metadata": {},
   "outputs": [],
   "source": [
    "def consecutive_sum(num):\n",
    "    '''\n",
    "    '''\n",
    "    cnt, length = 1, 1\n",
    "    \n",
    "    while(length * (length + 1) < 2 * num): \n",
    "        a = (1 * num - (length * (length + 1) ) / 2) / (length + 1) \n",
    "        if (a - int(a) == 0): \n",
    "            cnt += 1\n",
    "        length += 1\n",
    "    return cnt "
   ]
  },
  {
   "cell_type": "code",
   "execution_count": 72,
   "metadata": {},
   "outputs": [
    {
     "data": {
      "text/plain": [
       "4"
      ]
     },
     "execution_count": 72,
     "metadata": {},
     "output_type": "execute_result"
    }
   ],
   "source": [
    "countConsecutive(15)"
   ]
  },
  {
   "cell_type": "markdown",
   "metadata": {},
   "source": [
    "### Problem #8\n",
    "Halving Sum\n",
    "Given a positive integer n, calculate the following sum:\n",
    "All elements of the sum are the results of integer division."
   ]
  },
  {
   "cell_type": "code",
   "execution_count": 96,
   "metadata": {},
   "outputs": [],
   "source": [
    "def halving_sum(n):\n",
    "    sum_ = 0\n",
    "    while n != 0:\n",
    "        sum_ += n\n",
    "        n = n//2\n",
    "    return sum_\n",
    "    \n",
    "    \n",
    "    "
   ]
  },
  {
   "cell_type": "code",
   "execution_count": 97,
   "metadata": {},
   "outputs": [
    {
     "data": {
      "text/plain": [
       "47"
      ]
     },
     "execution_count": 97,
     "metadata": {},
     "output_type": "execute_result"
    }
   ],
   "source": [
    "halving_sum(25)"
   ]
  },
  {
   "cell_type": "code",
   "execution_count": 99,
   "metadata": {},
   "outputs": [],
   "source": [
    "def halving_sum_I(n): \n",
    "    if n == 1:\n",
    "        return 1\n",
    "    else:\n",
    "        return n + halving_sum(n//2)"
   ]
  },
  {
   "cell_type": "code",
   "execution_count": 100,
   "metadata": {},
   "outputs": [
    {
     "data": {
      "text/plain": [
       "47"
      ]
     },
     "execution_count": 100,
     "metadata": {},
     "output_type": "execute_result"
    }
   ],
   "source": [
    "halving_sum_I(25)"
   ]
  },
  {
   "cell_type": "code",
   "execution_count": 103,
   "metadata": {},
   "outputs": [],
   "source": [
    "def halving_sum_II(n): \n",
    "    if n > 1 :\n",
    "        n += halving_sum(n//2)\n",
    "    return n"
   ]
  },
  {
   "cell_type": "code",
   "execution_count": 104,
   "metadata": {},
   "outputs": [
    {
     "data": {
      "text/plain": [
       "47"
      ]
     },
     "execution_count": 104,
     "metadata": {},
     "output_type": "execute_result"
    }
   ],
   "source": [
    "halving_sum_II(25)"
   ]
  },
  {
   "cell_type": "markdown",
   "metadata": {},
   "source": [
    "### Problem #9\n",
    "I need some help with my math homework. I have a number of problems I need to return the derivative for.\n",
    "\n",
    "They will all be of the form:\n",
    "ax^b,\n",
    "A and B are both integers, but can be positive or negative. Note:\n",
    "\n",
    "if b is 1, then the equation will be ax.\n",
    "if b is 0, then the equation will be 0.\n",
    "\n",
    "Examples: 3x^3 -> 9x^2\n",
    "\n",
    "3x^2 -> 6x\n",
    "\n",
    "3x -> 3\n",
    "\n",
    "3 -> 0\n",
    "\n",
    "3x^-1 -> -3x^-2\n",
    "\n",
    "-3x^-2 -> 6x^-3\n",
    "\n",
    "\n",
    "https://www.codewars.com/kata/5a0350c380171ffd7b00012a/train/python"
   ]
  },
  {
   "cell_type": "code",
   "execution_count": null,
   "metadata": {},
   "outputs": [],
   "source": [
    "def get_derivative(string):"
   ]
  },
  {
   "cell_type": "markdown",
   "metadata": {},
   "source": [
    "### Problem #10"
   ]
  },
  {
   "cell_type": "code",
   "execution_count": 146,
   "metadata": {},
   "outputs": [],
   "source": [
    "def square_digits(num):\n",
    "    x = [int(i)*int(i) for i in str(num)]\n",
    "    x = int(''.join(str(t) for t in x))\n",
    "    return x"
   ]
  },
  {
   "cell_type": "code",
   "execution_count": 147,
   "metadata": {},
   "outputs": [
    {
     "data": {
      "text/plain": [
       "811181"
      ]
     },
     "execution_count": 147,
     "metadata": {},
     "output_type": "execute_result"
    }
   ],
   "source": [
    "square_digits(9119)"
   ]
  },
  {
   "cell_type": "markdown",
   "metadata": {},
   "source": [
    "### Problem #11\n",
    "A square of squares\n",
    "\n",
    "You like building blocks. You especially like building blocks that are squares. And what you even like more, is to arrange them into a square of square building blocks!\n",
    "\n",
    "However, sometimes, you can't arrange them into a square. Instead, you end up with an ordinary rectangle! Those blasted things! If you just had a way to know, whether you're currently working in vain… Wait! That's it! You just have to check if your number of building blocks is a perfect square.\n",
    "\n",
    "Task\n",
    "\n",
    "Given an integral number, determine if it's a square number:\n",
    "\n",
    "In mathematics, a square number or perfect square is an integer that is the square of an integer; in other words, it is the product of some integer with itself.\n",
    "\n",
    "The tests will always use some integral number, so don't worry about that in dynamic typed languages."
   ]
  },
  {
   "cell_type": "code",
   "execution_count": 178,
   "metadata": {},
   "outputs": [],
   "source": [
    "import math"
   ]
  },
  {
   "cell_type": "code",
   "execution_count": 206,
   "metadata": {},
   "outputs": [],
   "source": [
    "import math\n",
    "\n",
    "def is_square(n):    \n",
    "    while n >= 0:\n",
    "        sqr_n = int(math.sqrt(n))\n",
    "        if n == sqr_n*sqr_n:\n",
    "            return True \n",
    "        else:\n",
    "            return False \n",
    "    return False"
   ]
  },
  {
   "cell_type": "code",
   "execution_count": 207,
   "metadata": {},
   "outputs": [
    {
     "data": {
      "text/plain": [
       "True"
      ]
     },
     "execution_count": 207,
     "metadata": {},
     "output_type": "execute_result"
    }
   ],
   "source": [
    "is_square(4)"
   ]
  },
  {
   "cell_type": "code",
   "execution_count": null,
   "metadata": {},
   "outputs": [],
   "source": [
    "from math import sqrt\n",
    "def is_square(n):    \n",
    "    return False if n < 0 else sqrt(n).is_integer()"
   ]
  },
  {
   "cell_type": "code",
   "execution_count": null,
   "metadata": {},
   "outputs": [],
   "source": []
  },
  {
   "cell_type": "markdown",
   "metadata": {},
   "source": [
    "### Problem #12\n",
    "In this little assignment you are given a string of space separated numbers, and have to return the highest and lowest number.\n",
    "\n",
    "Example:\n",
    "\n",
    "high_and_low(\"1 2 3 4 5\")  # return \"5 1\"\n",
    "\n",
    "high_and_low(\"1 2 -3 4 5\") # return \"5 -3\"\n",
    "\n",
    "high_and_low(\"1 9 3 4 -5\") # return \"9 -5\"\n",
    "\n",
    "Notes:\n",
    "\n",
    "All numbers are valid Int32, no need to validate them.\n",
    "There will always be at least one number in the input string.\n",
    "Output string must be two numbers separated by a single space, and highest number is first.\n"
   ]
  },
  {
   "cell_type": "code",
   "execution_count": 255,
   "metadata": {},
   "outputs": [
    {
     "data": {
      "text/plain": [
       "'1 2 3 4 5'"
      ]
     },
     "execution_count": 255,
     "metadata": {},
     "output_type": "execute_result"
    }
   ],
   "source": [
    "x = ''.join(str(t) for t in p)\n",
    "x"
   ]
  },
  {
   "cell_type": "code",
   "execution_count": 256,
   "metadata": {},
   "outputs": [
    {
     "data": {
      "text/plain": [
       "'4 5 29 54 4 0 -214 542 -64 1 -3 6 -6'"
      ]
     },
     "execution_count": 256,
     "metadata": {},
     "output_type": "execute_result"
    }
   ],
   "source": [
    "p = (\"4 5 29 54 4 0 -214 542 -64 1 -3 6 -6\")\n",
    "p"
   ]
  },
  {
   "cell_type": "code",
   "execution_count": 257,
   "metadata": {},
   "outputs": [],
   "source": [
    "def high_and_low(numbers):\n",
    "  \n",
    "    x = [int(i) for i in numbers if i != ' ']\n",
    "    x =  max(x), min(x)\n",
    "    return \" \".join(str(t) for t in x)"
   ]
  },
  {
   "cell_type": "code",
   "execution_count": null,
   "metadata": {},
   "outputs": [],
   "source": [
    "high_and_low(p)"
   ]
  },
  {
   "cell_type": "code",
   "execution_count": 230,
   "metadata": {},
   "outputs": [],
   "source": [
    "p = max(x), min(x)"
   ]
  },
  {
   "cell_type": "code",
   "execution_count": 231,
   "metadata": {},
   "outputs": [
    {
     "data": {
      "text/plain": [
       "(5, 1)"
      ]
     },
     "execution_count": 231,
     "metadata": {},
     "output_type": "execute_result"
    }
   ],
   "source": [
    "p"
   ]
  },
  {
   "cell_type": "code",
   "execution_count": null,
   "metadata": {},
   "outputs": [],
   "source": [
    "res_min = min(float(sub) for sub in test_list) \n",
    "res_max = max(float(sub) for sub in test_list) "
   ]
  },
  {
   "cell_type": "markdown",
   "metadata": {},
   "source": [
    "### Problem #13\n",
    "In this kata you will create a function that takes a list of non-negative integers and strings and returns a new list with the strings filtered out.\n",
    "\n"
   ]
  },
  {
   "cell_type": "code",
   "execution_count": null,
   "metadata": {},
   "outputs": [],
   "source": [
    "def filter_list(l):\n",
    "    '''\n",
    "    '''\n",
    "    l_copy = []\n",
    "    for i in range(len(l)): \n",
    "        if type(l[i]) is int:\n",
    "            l_copy.append(l[i])\n",
    "    return l_copy\n",
    "        "
   ]
  },
  {
   "cell_type": "code",
   "execution_count": null,
   "metadata": {},
   "outputs": [],
   "source": [
    "def filter_list(l):\n",
    "    'return a new list with the strings filtered out'\n",
    "    return [i for i in l if not isinstance(i, str)]"
   ]
  },
  {
   "cell_type": "markdown",
   "metadata": {},
   "source": [
    "### Problem #14\n",
    "Given two integers a and b, which can be positive or negative, find the sum of all the numbers between including them too and return it. If the two numbers are equal return a or b.\n",
    "\n",
    "Note: a and b are not ordered!"
   ]
  },
  {
   "cell_type": "code",
   "execution_count": 8,
   "metadata": {},
   "outputs": [],
   "source": []
  },
  {
   "cell_type": "markdown",
   "metadata": {},
   "source": [
    "### Problem #15\n",
    "Return the number (count) of vowels in the given string.\n",
    "\n",
    "We will consider a, e, i, o, u as vowels for this Kata (but not y).\n",
    "\n",
    "The input string will only consist of lower case letters and/or spaces."
   ]
  },
  {
   "cell_type": "code",
   "execution_count": null,
   "metadata": {},
   "outputs": [],
   "source": [
    "vowels ='aeiou'\n",
    "def get_count(input_str):\n",
    "    '''\n",
    "    '''\n",
    "    if input_str == '':\n",
    "        return 0\n",
    "    if input_str[0].lower() in vowels and input_str[0].isalpha():\n",
    "        return 1 + get_count(input_str[1:])\n",
    "    else:\n",
    "        return get_count(input_str[1:])"
   ]
  },
  {
   "cell_type": "markdown",
   "metadata": {},
   "source": [
    "### Problem #15\n",
    "Your task is to make a function that can take any non-negative integer as a argument and return it with its digits in descending order. Essentially, rearrange the digits to create the highest possible number."
   ]
  },
  {
   "cell_type": "code",
   "execution_count": 34,
   "metadata": {},
   "outputs": [],
   "source": [
    "def descending_order(num):\n",
    "    '''\n",
    "    '''\n",
    "    x = [int(i) for i in str(num)]\n",
    "    x.sort()\n",
    "    x = int(''.join(str(t) for t in x[::-1]))\n",
    "    return x\n",
    "    \n",
    "    "
   ]
  },
  {
   "cell_type": "code",
   "execution_count": null,
   "metadata": {},
   "outputs": [],
   "source": [
    "def Descending_Order(num):\n",
    "    return int(\"\".join(sorted(str(num), reverse=True)))"
   ]
  },
  {
   "cell_type": "markdown",
   "metadata": {},
   "source": [
    "### Problem #16\n",
    "Create a function that returns the sum of the two lowest positive numbers given an array of minimum 4 positive integers. No floats or non-positive integers will be passed.\n",
    "\n",
    "For example, when an array is passed like [19, 5, 42, 2, 77], the output should be 7.\n",
    "\n",
    "[10, 343445353, 3453445, 3453545353453] should return 3453455."
   ]
  },
  {
   "cell_type": "code",
   "execution_count": null,
   "metadata": {},
   "outputs": [],
   "source": [
    "def sum_two_smallest_numbers(numbers):\n",
    "    '''\n",
    "    '''\n",
    "    numbers.sort()\n",
    "    return sum(numbers[:2])"
   ]
  },
  {
   "cell_type": "markdown",
   "metadata": {},
   "source": [
    "### Problem #17\n",
    "\n",
    "If we list all the natural numbers below 10 that are multiples of 3 or 5, we get 3, 5, 6 and 9. The sum of these multiples is 23.\n",
    "\n",
    "Finish the solution so that it returns the sum of all the multiples of 3 or 5 below the number passed in.\n",
    "\n",
    "Note: If the number is a multiple of both 3 and 5, only count it once."
   ]
  },
  {
   "cell_type": "code",
   "execution_count": 72,
   "metadata": {},
   "outputs": [],
   "source": [
    "def solution(number):\n",
    "    '''\n",
    "    '''\n",
    "    x = [x for x in range(number) if x%3 ==0 or x%5 == 0]\n",
    "    return sum(x)"
   ]
  },
  {
   "cell_type": "code",
   "execution_count": 73,
   "metadata": {},
   "outputs": [
    {
     "data": {
      "text/plain": [
       "23"
      ]
     },
     "execution_count": 73,
     "metadata": {},
     "output_type": "execute_result"
    }
   ],
   "source": [
    "solution(10)"
   ]
  },
  {
   "cell_type": "code",
   "execution_count": 80,
   "metadata": {},
   "outputs": [],
   "source": [
    "def solution(number):\n",
    "    '''\n",
    "    '''\n",
    "    cnt_sum = 0\n",
    "    for i in range(0, number):\n",
    "        if i % 3 == 0 or i % 5 == 0:\n",
    "            cnt_sum += i\n",
    "    return cnt_sum"
   ]
  },
  {
   "cell_type": "code",
   "execution_count": 81,
   "metadata": {},
   "outputs": [
    {
     "data": {
      "text/plain": [
       "23"
      ]
     },
     "execution_count": 81,
     "metadata": {},
     "output_type": "execute_result"
    }
   ],
   "source": [
    "solution(10)"
   ]
  },
  {
   "cell_type": "markdown",
   "metadata": {},
   "source": [
    "### Problem #18\n",
    "https://www.codewars.com/kata/55f8a9c06c018a0d6e000132/train/python"
   ]
  },
  {
   "cell_type": "code",
   "execution_count": null,
   "metadata": {},
   "outputs": [],
   "source": [
    "import re \n",
    "def getNumbers(str_):\n",
    "    '''\n",
    "    '''\n",
    "    x = re.findall(r'[0-9]', str_)\n",
    "    while len(x) <= 4:\n",
    "        for i in renge(len(x)):\n",
    "            "
   ]
  },
  {
   "cell_type": "code",
   "execution_count": 130,
   "metadata": {},
   "outputs": [
    {
     "ename": "TypeError",
     "evalue": "'str' object cannot be interpreted as an integer",
     "output_type": "error",
     "traceback": [
      "\u001b[0;31m---------------------------------------------------------------------------\u001b[0m",
      "\u001b[0;31mTypeError\u001b[0m                                 Traceback (most recent call last)",
      "\u001b[0;32m<ipython-input-130-dbf8bc0c2d8a>\u001b[0m in \u001b[0;36m<module>\u001b[0;34m\u001b[0m\n\u001b[1;32m      5\u001b[0m \u001b[0;34m\u001b[0m\u001b[0m\n\u001b[1;32m      6\u001b[0m \u001b[0mc\u001b[0m \u001b[0;34m=\u001b[0m \u001b[0ma\u001b[0m \u001b[0;34m+\u001b[0m \u001b[0mb\u001b[0m\u001b[0;34m\u001b[0m\u001b[0;34m\u001b[0m\u001b[0m\n\u001b[0;32m----> 7\u001b[0;31m \u001b[0mhex\u001b[0m\u001b[0;34m(\u001b[0m\u001b[0mc\u001b[0m\u001b[0;34m)\u001b[0m\u001b[0;34m\u001b[0m\u001b[0;34m\u001b[0m\u001b[0m\n\u001b[0m",
      "\u001b[0;31mTypeError\u001b[0m: 'str' object cannot be interpreted as an integer"
     ]
    }
   ],
   "source": [
    "a = 1\n",
    "a = bin(a)\n",
    "b = 1\n",
    "b = bin(b)\n",
    "\n",
    "c = a + b \n",
    "hex(c)"
   ]
  },
  {
   "cell_type": "code",
   "execution_count": 3,
   "metadata": {},
   "outputs": [],
   "source": [
    "text = 'Genesis'"
   ]
  },
  {
   "cell_type": "code",
   "execution_count": 4,
   "metadata": {},
   "outputs": [
    {
     "name": "stdout",
     "output_type": "stream",
     "text": [
      "[7, 5, 14, 5, 19, 9, 19]\n"
     ]
    }
   ],
   "source": [
    "print([ord(char) - 96 for char in text.lower()])"
   ]
  },
  {
   "cell_type": "code",
   "execution_count": 7,
   "metadata": {},
   "outputs": [],
   "source": []
  },
  {
   "cell_type": "code",
   "execution_count": 8,
   "metadata": {},
   "outputs": [
    {
     "name": "stdout",
     "output_type": "stream",
     "text": [
      "103\n"
     ]
    }
   ],
   "source": []
  },
  {
   "cell_type": "code",
   "execution_count": null,
   "metadata": {},
   "outputs": [],
   "source": []
  }
 ],
 "metadata": {
  "kernelspec": {
   "display_name": "Python 3.6.7 64-bit",
   "language": "python",
   "name": "python36764bit357603b6c48149009c4f199efb2c30ea"
  },
  "language_info": {
   "codemirror_mode": {
    "name": "ipython",
    "version": 3
   },
   "file_extension": ".py",
   "mimetype": "text/x-python",
   "name": "python",
   "nbconvert_exporter": "python",
   "pygments_lexer": "ipython3",
   "version": "3.6.7rc1"
  }
 },
 "nbformat": 4,
 "nbformat_minor": 2
}
